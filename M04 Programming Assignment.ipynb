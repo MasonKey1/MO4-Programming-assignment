{
 "cells": [
  {
   "cell_type": "code",
   "execution_count": 1,
   "id": "6bcad71c",
   "metadata": {},
   "outputs": [],
   "source": [
    "def hours():\n",
    "    print('Open 9-5 daily')\n"
   ]
  },
  {
   "cell_type": "markdown",
   "id": "32f35043",
   "metadata": {},
   "source": [
    "^ The cell above is the file \"zoo\""
   ]
  },
  {
   "cell_type": "markdown",
   "id": "511a862f",
   "metadata": {},
   "source": [
    "import zoo\n",
    "\n",
    "zoo.hours()\n",
    "\n",
    "this will give the ouput \"Open 9-5 daily\" "
   ]
  },
  {
   "cell_type": "markdown",
   "id": "5b84f1c0",
   "metadata": {},
   "source": [
    "import zoo as menagerie\n",
    "\n",
    "menagerie.hours()\n",
    "\n",
    "this will also give the output \"Open 9-5 daily\""
   ]
  },
  {
   "cell_type": "code",
   "execution_count": 4,
   "id": "58e06675",
   "metadata": {},
   "outputs": [
    {
     "name": "stdout",
     "output_type": "stream",
     "text": [
      "Perdido Street Station\n",
      "Small Gods\n",
      "The Spellman Files\n",
      "The Weirdstone of Brisingamen\n",
      "Thud!\n"
     ]
    }
   ],
   "source": [
    "import csv\n",
    "import sqlalchemy\n",
    "\n",
    "engine = sqlalchemy.create_engine('sqlite:///:memory:')\n",
    "\n",
    "# create a book table in the database\n",
    "with engine.connect() as conn:\n",
    "    conn.execute('CREATE TABLE book (title TEXT, author TEXT, year INTEGER)')\n",
    "\n",
    "# read in the data from the CSV file and insert it into the book table\n",
    "with open('books2.csv', 'r') as f:\n",
    "    reader = csv.reader(f)\n",
    "    next(reader)  # skip the header row\n",
    "    with engine.connect() as conn:\n",
    "        for row in reader:\n",
    "            conn.execute('INSERT INTO book VALUES (?, ?, ?)', row)\n",
    "\n",
    "# select the title column from the book table and order it alphabetically\n",
    "with engine.connect() as conn:\n",
    "    result = conn.execute('SELECT title FROM book ORDER BY title ASC')\n",
    "    \n",
    "    # print out each row in the result set\n",
    "    for row in result:\n",
    "        print(row.title)\n"
   ]
  }
 ],
 "metadata": {
  "kernelspec": {
   "display_name": "Python 3 (ipykernel)",
   "language": "python",
   "name": "python3"
  },
  "language_info": {
   "codemirror_mode": {
    "name": "ipython",
    "version": 3
   },
   "file_extension": ".py",
   "mimetype": "text/x-python",
   "name": "python",
   "nbconvert_exporter": "python",
   "pygments_lexer": "ipython3",
   "version": "3.10.9"
  }
 },
 "nbformat": 4,
 "nbformat_minor": 5
}
